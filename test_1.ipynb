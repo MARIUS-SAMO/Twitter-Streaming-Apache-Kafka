{
 "cells": [
  {
   "cell_type": "code",
   "execution_count": 21,
   "metadata": {},
   "outputs": [],
   "source": [
    "from kafka import KafkaConsumer, KafkaProducer\n",
    "from json import loads\n",
    "import json"
   ]
  },
  {
   "cell_type": "code",
   "execution_count": 22,
   "metadata": {},
   "outputs": [],
   "source": [
    "topic_name = \"rawTwitter\"\n",
    "producer = KafkaProducer(bootstrap_servers='localhost:9092')\n",
    "consumer = KafkaConsumer(topic_name, value_deserializer=lambda x: loads(x.decode('utf-8')))"
   ]
  },
  {
   "cell_type": "code",
   "execution_count": null,
   "metadata": {},
   "outputs": [],
   "source": [
    "for msg in consumer:\n",
    "    if msg.value[\"lang\"] == \"en\" :\n",
    "        #print(msg.value[\"lang\"])\n",
    "        producer.send(\"en-tweets\", json.dumps(dict(msg.value), indent=4, default=str, sort_keys=True).encode(\"utf-8\"))\n",
    "    elif msg.value[\"lang\"] == \"fr\":\n",
    "        producer.send(\"fr-tweets\", json.dumps(dict(msg.value), indent=4, default=str, sort_keys=True).encode(\"utf-8\"))"
   ]
  }
 ],
 "metadata": {
  "kernelspec": {
   "display_name": "env2",
   "language": "python",
   "name": "python3"
  },
  "language_info": {
   "codemirror_mode": {
    "name": "ipython",
    "version": 3
   },
   "file_extension": ".py",
   "mimetype": "text/x-python",
   "name": "python",
   "nbconvert_exporter": "python",
   "pygments_lexer": "ipython3",
   "version": "3.9.15 (main, Nov 24 2022, 14:39:17) [MSC v.1916 64 bit (AMD64)]"
  },
  "orig_nbformat": 4,
  "vscode": {
   "interpreter": {
    "hash": "e8930aebd1acb1f948248a425661fa3355339b9b1f1793e90202c4d1127de36c"
   }
  }
 },
 "nbformat": 4,
 "nbformat_minor": 2
}
